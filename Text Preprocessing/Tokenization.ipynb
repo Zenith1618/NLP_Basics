{
 "cells": [
  {
   "cell_type": "code",
   "execution_count": 14,
   "metadata": {},
   "outputs": [],
   "source": [
    "# Paragraph from Adventures of Huckleberry Finn - Mark Twain\n",
    "corpus = \"\"\"\n",
    " It was all black, no gray; so was his long, mixed-up whiskers. There warn't no color in his face, where his face showed; it was \n",
    "white; not like another man's white, but a white to make a body sick, a white to make a body's flesh crawl—a tree-toad white, a fish-belly white. \n",
    "\"\"\""
   ]
  },
  {
   "cell_type": "code",
   "execution_count": 15,
   "metadata": {},
   "outputs": [
    {
     "name": "stdout",
     "output_type": "stream",
     "text": [
      "\n",
      " It was all black, no gray; so was his long, mixed-up whiskers. There warn't no color in his face, where his face showed; it was \n",
      "white; not like another man's white, but a white to make a body sick, a white to make a body's flesh crawl—a tree-toad white, a fish-belly white. \n",
      "\n"
     ]
    }
   ],
   "source": [
    "print(corpus)"
   ]
  },
  {
   "cell_type": "markdown",
   "metadata": {},
   "source": [
    "## Tokenization\n",
    "\n",
    "Paragraph -->Sentences"
   ]
  },
  {
   "cell_type": "code",
   "execution_count": 17,
   "metadata": {},
   "outputs": [],
   "source": [
    "import nltk\n",
    "#nltk.download()"
   ]
  },
  {
   "cell_type": "code",
   "execution_count": 18,
   "metadata": {},
   "outputs": [],
   "source": [
    "from nltk.tokenize import sent_tokenize     #sent_tokenize: tries to convert para to sentence\n",
    "\n",
    "documents = sent_tokenize(corpus)"
   ]
  },
  {
   "cell_type": "code",
   "execution_count": 19,
   "metadata": {},
   "outputs": [
    {
     "data": {
      "text/plain": [
       "['\\n It was all black, no gray; so was his long, mixed-up whiskers.',\n",
       " \"There warn't no color in his face, where his face showed; it was \\nwhite; not like another man's white, but a white to make a body sick, a white to make a body's flesh crawl—a tree-toad white, a fish-belly white.\"]"
      ]
     },
     "execution_count": 19,
     "metadata": {},
     "output_type": "execute_result"
    }
   ],
   "source": [
    "documents"
   ]
  },
  {
   "cell_type": "code",
   "execution_count": 20,
   "metadata": {},
   "outputs": [
    {
     "data": {
      "text/plain": [
       "list"
      ]
     },
     "execution_count": 20,
     "metadata": {},
     "output_type": "execute_result"
    }
   ],
   "source": [
    "type(documents) "
   ]
  },
  {
   "cell_type": "code",
   "execution_count": 21,
   "metadata": {},
   "outputs": [
    {
     "name": "stdout",
     "output_type": "stream",
     "text": [
      "\n",
      " It was all black, no gray; so was his long, mixed-up whiskers.\n",
      "There warn't no color in his face, where his face showed; it was \n",
      "white; not like another man's white, but a white to make a body sick, a white to make a body's flesh crawl—a tree-toad white, a fish-belly white.\n"
     ]
    }
   ],
   "source": [
    "for sentence in documents:\n",
    "    print(sentence)"
   ]
  },
  {
   "cell_type": "markdown",
   "metadata": {},
   "source": [
    "Paragraph --> Words\n"
   ]
  },
  {
   "cell_type": "code",
   "execution_count": 22,
   "metadata": {},
   "outputs": [],
   "source": [
    "from nltk.tokenize import word_tokenize"
   ]
  },
  {
   "cell_type": "code",
   "execution_count": 23,
   "metadata": {},
   "outputs": [
    {
     "data": {
      "text/plain": [
       "['It',\n",
       " 'was',\n",
       " 'all',\n",
       " 'black',\n",
       " ',',\n",
       " 'no',\n",
       " 'gray',\n",
       " ';',\n",
       " 'so',\n",
       " 'was',\n",
       " 'his',\n",
       " 'long',\n",
       " ',',\n",
       " 'mixed-up',\n",
       " 'whiskers',\n",
       " '.',\n",
       " 'There',\n",
       " 'war',\n",
       " \"n't\",\n",
       " 'no',\n",
       " 'color',\n",
       " 'in',\n",
       " 'his',\n",
       " 'face',\n",
       " ',',\n",
       " 'where',\n",
       " 'his',\n",
       " 'face',\n",
       " 'showed',\n",
       " ';',\n",
       " 'it',\n",
       " 'was',\n",
       " 'white',\n",
       " ';',\n",
       " 'not',\n",
       " 'like',\n",
       " 'another',\n",
       " 'man',\n",
       " \"'s\",\n",
       " 'white',\n",
       " ',',\n",
       " 'but',\n",
       " 'a',\n",
       " 'white',\n",
       " 'to',\n",
       " 'make',\n",
       " 'a',\n",
       " 'body',\n",
       " 'sick',\n",
       " ',',\n",
       " 'a',\n",
       " 'white',\n",
       " 'to',\n",
       " 'make',\n",
       " 'a',\n",
       " 'body',\n",
       " \"'s\",\n",
       " 'flesh',\n",
       " 'crawl—a',\n",
       " 'tree-toad',\n",
       " 'white',\n",
       " ',',\n",
       " 'a',\n",
       " 'fish-belly',\n",
       " 'white',\n",
       " '.']"
      ]
     },
     "execution_count": 23,
     "metadata": {},
     "output_type": "execute_result"
    }
   ],
   "source": [
    "word_tokenize(corpus)   #even comma, fullstop are considered as separate words, "
   ]
  },
  {
   "cell_type": "markdown",
   "metadata": {},
   "source": [
    "Sentences --> Words"
   ]
  },
  {
   "cell_type": "code",
   "execution_count": 24,
   "metadata": {},
   "outputs": [
    {
     "name": "stdout",
     "output_type": "stream",
     "text": [
      "['It', 'was', 'all', 'black', ',', 'no', 'gray', ';', 'so', 'was', 'his', 'long', ',', 'mixed-up', 'whiskers', '.']\n",
      "['There', 'war', \"n't\", 'no', 'color', 'in', 'his', 'face', ',', 'where', 'his', 'face', 'showed', ';', 'it', 'was', 'white', ';', 'not', 'like', 'another', 'man', \"'s\", 'white', ',', 'but', 'a', 'white', 'to', 'make', 'a', 'body', 'sick', ',', 'a', 'white', 'to', 'make', 'a', 'body', \"'s\", 'flesh', 'crawl—a', 'tree-toad', 'white', ',', 'a', 'fish-belly', 'white', '.']\n"
     ]
    }
   ],
   "source": [
    "for sentence in documents:\n",
    "    print(word_tokenize(sentence))"
   ]
  },
  {
   "cell_type": "markdown",
   "metadata": {},
   "source": [
    "Another Technique"
   ]
  },
  {
   "cell_type": "code",
   "execution_count": 25,
   "metadata": {},
   "outputs": [
    {
     "data": {
      "text/plain": [
       "['It',\n",
       " 'was',\n",
       " 'all',\n",
       " 'black',\n",
       " ',',\n",
       " 'no',\n",
       " 'gray',\n",
       " ';',\n",
       " 'so',\n",
       " 'was',\n",
       " 'his',\n",
       " 'long',\n",
       " ',',\n",
       " 'mixed',\n",
       " '-',\n",
       " 'up',\n",
       " 'whiskers',\n",
       " '.',\n",
       " 'There',\n",
       " 'warn',\n",
       " \"'\",\n",
       " 't',\n",
       " 'no',\n",
       " 'color',\n",
       " 'in',\n",
       " 'his',\n",
       " 'face',\n",
       " ',',\n",
       " 'where',\n",
       " 'his',\n",
       " 'face',\n",
       " 'showed',\n",
       " ';',\n",
       " 'it',\n",
       " 'was',\n",
       " 'white',\n",
       " ';',\n",
       " 'not',\n",
       " 'like',\n",
       " 'another',\n",
       " 'man',\n",
       " \"'\",\n",
       " 's',\n",
       " 'white',\n",
       " ',',\n",
       " 'but',\n",
       " 'a',\n",
       " 'white',\n",
       " 'to',\n",
       " 'make',\n",
       " 'a',\n",
       " 'body',\n",
       " 'sick',\n",
       " ',',\n",
       " 'a',\n",
       " 'white',\n",
       " 'to',\n",
       " 'make',\n",
       " 'a',\n",
       " 'body',\n",
       " \"'\",\n",
       " 's',\n",
       " 'flesh',\n",
       " 'crawl',\n",
       " '—',\n",
       " 'a',\n",
       " 'tree',\n",
       " '-',\n",
       " 'toad',\n",
       " 'white',\n",
       " ',',\n",
       " 'a',\n",
       " 'fish',\n",
       " '-',\n",
       " 'belly',\n",
       " 'white',\n",
       " '.']"
      ]
     },
     "execution_count": 25,
     "metadata": {},
     "output_type": "execute_result"
    }
   ],
   "source": [
    "from nltk.tokenize import wordpunct_tokenize\n",
    "\n",
    "wordpunct_tokenize(corpus)  # the difference is that even something like (body)'s --> get spiltted into ',s rather than whole 's\n",
    "# puntuation are being treated separately "
   ]
  },
  {
   "cell_type": "markdown",
   "metadata": {},
   "source": [
    "Another Technique"
   ]
  },
  {
   "cell_type": "code",
   "execution_count": 27,
   "metadata": {},
   "outputs": [
    {
     "data": {
      "text/plain": [
       "['It',\n",
       " 'was',\n",
       " 'all',\n",
       " 'black',\n",
       " ',',\n",
       " 'no',\n",
       " 'gray',\n",
       " ';',\n",
       " 'so',\n",
       " 'was',\n",
       " 'his',\n",
       " 'long',\n",
       " ',',\n",
       " 'mixed-up',\n",
       " 'whiskers.',\n",
       " 'There',\n",
       " 'war',\n",
       " \"n't\",\n",
       " 'no',\n",
       " 'color',\n",
       " 'in',\n",
       " 'his',\n",
       " 'face',\n",
       " ',',\n",
       " 'where',\n",
       " 'his',\n",
       " 'face',\n",
       " 'showed',\n",
       " ';',\n",
       " 'it',\n",
       " 'was',\n",
       " 'white',\n",
       " ';',\n",
       " 'not',\n",
       " 'like',\n",
       " 'another',\n",
       " 'man',\n",
       " \"'s\",\n",
       " 'white',\n",
       " ',',\n",
       " 'but',\n",
       " 'a',\n",
       " 'white',\n",
       " 'to',\n",
       " 'make',\n",
       " 'a',\n",
       " 'body',\n",
       " 'sick',\n",
       " ',',\n",
       " 'a',\n",
       " 'white',\n",
       " 'to',\n",
       " 'make',\n",
       " 'a',\n",
       " 'body',\n",
       " \"'s\",\n",
       " 'flesh',\n",
       " 'crawl—a',\n",
       " 'tree-toad',\n",
       " 'white',\n",
       " ',',\n",
       " 'a',\n",
       " 'fish-belly',\n",
       " 'white',\n",
       " '.']"
      ]
     },
     "execution_count": 27,
     "metadata": {},
     "output_type": "execute_result"
    }
   ],
   "source": [
    "from nltk.tokenize import TreebankWordTokenizer\n",
    "\n",
    "tokenizer = TreebankWordTokenizer()\n",
    "\n",
    "tokenizer.tokenize(corpus)\n",
    "# Full stop or dash(-) is not treated separately but the last full stop is treated separately"
   ]
  },
  {
   "cell_type": "code",
   "execution_count": null,
   "metadata": {},
   "outputs": [],
   "source": []
  }
 ],
 "metadata": {
  "kernelspec": {
   "display_name": "Python 3",
   "language": "python",
   "name": "python3"
  },
  "language_info": {
   "codemirror_mode": {
    "name": "ipython",
    "version": 3
   },
   "file_extension": ".py",
   "mimetype": "text/x-python",
   "name": "python",
   "nbconvert_exporter": "python",
   "pygments_lexer": "ipython3",
   "version": "3.12.4"
  }
 },
 "nbformat": 4,
 "nbformat_minor": 2
}
